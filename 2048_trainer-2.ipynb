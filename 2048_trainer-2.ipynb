{
 "cells": [
  {
   "cell_type": "code",
   "execution_count": 1,
   "metadata": {},
   "outputs": [],
   "source": [
    "import numpy as np\n",
    "from random import *"
   ]
  },
  {
   "cell_type": "markdown",
   "metadata": {},
   "source": [
    "# Set up environment"
   ]
  },
  {
   "cell_type": "code",
   "execution_count": 2,
   "metadata": {},
   "outputs": [],
   "source": [
    "####################\n",
    "# Helper Functions #\n",
    "####################\n",
    "\n",
    "def accumulate(fn, initial, seq):\n",
    "    if not seq:\n",
    "        return initial\n",
    "    else:\n",
    "        return fn(seq[0], \n",
    "                  accumulate(fn, initial, seq[1:]))\n",
    "    \n",
    "def flatten(mat):\n",
    "    return [num for row in mat for num in row]\n",
    "\n",
    "def has_zero(mat):\n",
    "    return 0 in flatten(mat)\n",
    "\n",
    "def transpose(mat):\n",
    "    return list(map(list,zip(*mat)))\n",
    "\n",
    "# Before Transpose:\n",
    "# 1 2 3 4\n",
    "# 5 6 7 8\n",
    "# 9 10 11 12\n",
    "# 13 14 15 16\n",
    "\n",
    "# After Transpose\n",
    "# 1 5 9 13\n",
    "# 2 6 10 14\n",
    "# 3 7 11 15\n",
    "# 4 8 12 16\n",
    "\n",
    "\n",
    "def reverse(mat):\n",
    "    return list(map(lambda row: list(reversed(row)),mat))\n",
    "\n",
    "# Before Reverse:\n",
    "# 1 2 3 4\n",
    "# 5 6 7 8\n",
    "# 9 10 11 12\n",
    "# 13 14 15 16\n",
    "\n",
    "# After Reverse\n",
    "# 4 3 2 1\n",
    "# 8 7 6 5\n",
    "# 12 11 10 9\n",
    "# 16 15 14 13\n",
    "\n",
    "\n",
    "###################\n",
    "# Game Matrix ADT #\n",
    "###################\n",
    "\n",
    "def new_game_matrix(n):\n",
    "    matrix = []\n",
    "    for i in range(n):\n",
    "        matrix.append([0] * n)\n",
    "    return matrix\n",
    "\n",
    "\n",
    "def add_two(mat):\n",
    "    if not has_zero(mat):\n",
    "        return mat\n",
    "    a = randint(0, len(mat)-1)\n",
    "    b = randint(0, len(mat)-1)\n",
    "    while mat[a][b] != 0:\n",
    "        a = randint(0, len(mat)-1)\n",
    "        b = randint(0, len(mat)-1)\n",
    "    mat[a][b] = 2\n",
    "    return mat\n",
    "\n",
    "def game_status(mat):\n",
    "#     for row in mat:\n",
    "#         for element in row:\n",
    "#             if element == 8192:\n",
    "#                 return 'win'\n",
    "\n",
    "    if has_zero(mat):\n",
    "        return 'not over'\n",
    "    for i in range(len(mat)): #Check horizontally\n",
    "        for j in range(len(mat[0])-1):\n",
    "            if mat[i][j] == mat[i][j+1]:\n",
    "                return 'not over'\n",
    "    for i in range(len(mat)-1): #Check vertically\n",
    "        for j in range(len(mat[0])):\n",
    "            if mat[i][j] == mat[i+1][j]:\n",
    "                return 'not over'\n",
    "    return 'lose'\n",
    "\n",
    "def merge_left(matrix):\n",
    "    def merge_row(row):\n",
    "        merged_row, prev_tile, score_increment = [], 0, 0\n",
    "        # pack element by element left-wards\n",
    "        for tile in row:\n",
    "            if tile == 0: continue\n",
    "            if prev_tile == 0:\n",
    "                prev_tile = tile\n",
    "            elif prev_tile != tile:\n",
    "                merged_row.append(prev_tile)\n",
    "                prev_tile = tile\n",
    "            else:\n",
    "                merged_row.append(prev_tile*2)\n",
    "                score_increment += prev_tile*2\n",
    "                prev_tile = 0\n",
    "        merged_row.append(prev_tile) # valid regardless whether there are merges or not\n",
    "        # top up zeros\n",
    "        while len(merged_row) != len(row):\n",
    "            merged_row.append(0)\n",
    "        return (merged_row, merged_row != row, score_increment)\n",
    "\n",
    "    return accumulate(lambda first, rest: ([first[0]] + rest[0], \n",
    "                                            first[1] or rest[1], \n",
    "                                            first[2] + rest[2]),\n",
    "                      ([], False, 0),\n",
    "                      list(map(merge_row, matrix)))\n",
    "\n",
    "def merge_right(mat):\n",
    "    mat, valid, score = merge_left(reverse(mat))\n",
    "    return (reverse(mat), valid, score)\n",
    "\n",
    "def merge_up(mat):\n",
    "    mat, valid, score = merge_left(transpose(mat))\n",
    "    return (transpose(mat), valid, score)\n",
    "\n",
    "def merge_down(mat):\n",
    "    mat, valid, score = merge_left(reverse(transpose(mat)))\n",
    "    return (transpose(reverse(mat)), valid, score)\n",
    "\n",
    "\n",
    "###################\n",
    "# Game Record ADT #\n",
    "###################\n",
    "                \n",
    "def make_new_record(mat, score):\n",
    "    return (mat, score)\n",
    "def get_record_matrix(record):\n",
    "    return record[0]\n",
    "def get_record_score(record):\n",
    "    return record[1]\n",
    "\n",
    "\n",
    "####################\n",
    "# Game Records ADT #\n",
    "####################\n",
    "\n",
    "def new_records():\n",
    "    return []\n",
    "def add_record(new_record, records):\n",
    "    NUM_OF_UNDOS = 3\n",
    "    records.append(new_record)\n",
    "    if num_of_records(records) > NUM_OF_UNDOS:\n",
    "        records = records[-NUM_OF_UNDOS:]\n",
    "    return records\n",
    "def num_of_records(records):\n",
    "    return len(records)\n",
    "def is_empty(records):\n",
    "    return num_of_records(records) <= 0\n",
    "def pop_last_record(records):\n",
    "    if not is_empty(records):\n",
    "        last_record = records.pop()\n",
    "        return (get_record_matrix(last_record),\n",
    "                get_record_score(last_record),\n",
    "                records)\n",
    "    else:\n",
    "        return (None, None, records)\n",
    "\n",
    "##################\n",
    "# Game State ADT #\n",
    "##################\n",
    "\n",
    "def make_state(matrix, total_score, history):\n",
    "    return (matrix, total_score, history)\n",
    "def get_matrix(state):\n",
    "    return state[0]\n",
    "def get_score(state):\n",
    "    return state[1]\n",
    "def get_history(state):\n",
    "    return state[2]\n",
    "def make_new_game(n):\n",
    "    starting_matrix = add_two(add_two(new_game_matrix(n)))\n",
    "    return make_state(starting_matrix, 0, new_records())\n",
    "\n",
    "def execute_move(state, matrix_updater):   \n",
    "    current_score = get_score(state)\n",
    "    next_matrix, valid_move, score_increment = matrix_updater(get_matrix(state))\n",
    "    if not valid_move:\n",
    "        return (state, False)\n",
    "    else:\n",
    "        updated_history = ()\n",
    "        updated_state = make_state(add_two(next_matrix),\n",
    "                                   current_score + score_increment,\n",
    "                                   updated_history)\n",
    "        return (updated_state, True)\n",
    "def left(state):\n",
    "    return execute_move(state, merge_left)\n",
    "def right(state):\n",
    "    return execute_move(state, merge_right)\n",
    "def up(state):\n",
    "    return execute_move(state, merge_up)\n",
    "def down(state):\n",
    "    return execute_move(state, merge_down)\n",
    "\n",
    "def undo(state):\n",
    "    records = get_history(state)\n",
    "    matrix, score, records = pop_last_record(records)\n",
    "    if matrix:\n",
    "        return (make_state(matrix, score, records), True)\n",
    "    else:\n",
    "        return (state, False)    \n",
    "\n",
    "game_logic = {\n",
    "    'make_new_game': make_new_game,\n",
    "    'game_status': game_status,\n",
    "    'get_score': get_score,\n",
    "    'get_matrix': get_matrix,\n",
    "    'up': up,\n",
    "    'down': down,\n",
    "    'left': left,\n",
    "    'right': right,\n",
    "    'undo': undo\n",
    "}"
   ]
  },
  {
   "cell_type": "markdown",
   "metadata": {},
   "source": [
    "# Random AI"
   ]
  },
  {
   "cell_type": "code",
   "execution_count": 3,
   "metadata": {},
   "outputs": [],
   "source": [
    "def random_move(current_state):\n",
    "    index = np.random.randint(4)\n",
    "    return [\"up\", \"down\", \"left\", \"right\"][index]"
   ]
  },
  {
   "cell_type": "code",
   "execution_count": 4,
   "metadata": {},
   "outputs": [],
   "source": [
    "import seaborn as sns\n",
    "import matplotlib.pyplot as plt\n",
    "\n",
    "def printboardstate(boardstate):\n",
    "    mat, score, _ = boardstate\n",
    "    sns.heatmap(mat, annot = True, \n",
    "            square = True, cbar = False, cmap = 'YlOrBr', fmt = 'd')\n",
    "    plt.title('Game State with Score ' + str(score))\n",
    "    plt.axis('off')\n",
    "    plt.show()"
   ]
  },
  {
   "cell_type": "code",
   "execution_count": 5,
   "metadata": {},
   "outputs": [
    {
     "name": "stdout",
     "output_type": "stream",
     "text": [
      "Initial state:\n"
     ]
    },
    {
     "data": {
      "image/png": "[encoded data removed]",
      "text/plain": [
       "<Figure size 640x480 with 1 Axes>"
      ]
     },
     "metadata": {},
     "output_type": "display_data"
    },
    {
     "name": "stdout",
     "output_type": "stream",
     "text": [
      "Final state:\n"
     ]
    },
    {
     "data": {
      "image/png": "[encoded data removed]",
      "text/plain": [
       "<Figure size 640x480 with 1 Axes>"
      ]
     },
     "metadata": {},
     "output_type": "display_data"
    }
   ],
   "source": [
    "current_state = make_new_game(4)\n",
    "\n",
    "print('Initial state:')\n",
    "printboardstate(current_state)\n",
    "\n",
    "while game_status(get_matrix(current_state)) == \"not over\":\n",
    "    best_move = random_move(current_state)\n",
    "    best_move = game_logic[best_move]\n",
    "    current_state, _ = best_move(current_state)\n",
    "    \n",
    "print('Final state:')\n",
    "printboardstate(current_state)"
   ]
  },
  {
   "cell_type": "markdown",
   "metadata": {},
   "source": [
    "# Monte Carlo AI"
   ]
  },
  {
   "cell_type": "code",
   "execution_count": 46,
   "metadata": {},
   "outputs": [],
   "source": [
    "def playthrough(gamestate, num_tries, max_depth):\n",
    "    ''' Takes in a game state, and plays randomly till the end num_tries times, returns the final score '''\n",
    "    score = 0\n",
    "    for i in range(num_tries):\n",
    "        newstate = gamestate\n",
    "        depth = 0\n",
    "        while game_status(get_matrix(newstate)) == \"not over\" and depth<max_depth:\n",
    "            best_move = random_move(newstate)\n",
    "            best_move = game_logic[best_move]\n",
    "            newstate, _ = best_move(newstate)\n",
    "            \n",
    "            depth += 1\n",
    "        score += newstate[1] - gamestate[1]\n",
    "    \n",
    "    return score/num_tries"
   ]
  },
  {
   "cell_type": "code",
   "execution_count": 47,
   "metadata": {},
   "outputs": [
    {
     "name": "stdout",
     "output_type": "stream",
     "text": [
      "Initial state:\n"
     ]
    },
    {
     "data": {
      "image/png": "[encoded data removed]",
      "text/plain": [
       "<Figure size 640x480 with 1 Axes>"
      ]
     },
     "metadata": {},
     "output_type": "display_data"
    },
    {
     "name": "stdout",
     "output_type": "stream",
     "text": [
      "Score:\n",
      "0 0 4 4 8 12 20 24 24 24 24 24 24 28 40 44 44 48 52 68 84 88 88 92 100 104 108 108 112 120 124 124 124 124 124 124 128 136 152 192 240 244 292 292 296 296 300 304 312 312 312 312 316 316 320 320 336 344 348 348 348 352 360 380 384 384 388 396 400 400 480 480 496 496 516 548 560 576 608 608 612 620 624 628 636 636 640 640 644 712 736 740 748 748 752 752 756 760 912 912 912 916 916 916 920 936 940 948 1004 1008 1028 1036 1040 1040 1072 1072 1072 1172 1172 1172 1176 1176 1180 1192 1192 1196 1220 1240 1248 1264 1268 1268 1304 1320 1356 1424 1560 1560 1564 1568 1568 1568 1568 1572 1580 1584 1584 1600 1616 1620 1624 1624 1624 1628 1628 1632 1640 1644 1668 1668 1668 1668 1672 1700 1704 1704 1704 1704 1736 1736 1736 1736 1744 1784 1800 1800 1804 1804 2084 2092 2124 2128 2128 2128 2128 2132 2144 2144 2236 2236 2244 2252 2260 2264 2272 2276 2280 2284 2328 2360 2392 2392 2392 2396 2396 2400 2408 2408 2412 2416 2424 2424 2428 2440 2456 2460 2460 2460 2464 2532 2540 2556 2556 2560 2708 2716 2720 2720 2744 2744 2744 2748 2800 2800 2804 2812 2812 2816 2816 2816 2868 2876 2876 2876 2876 2876 2880 2956 2956 2960 2968 2988 2992 2992 2992 2996 3008 3016 3020 3024 3032 3048 3052 3056 3080 3080 3080 3100 3132 3136 3168 3180 3248 3392 3392 3396 3404 3408 3412 3416 3416 3416 3416 3696 3704 3708 3720 3736 3736 3736 3736 3740 3748 3768 3772 3772 3772 3772 4308 4352 4392 4392 4392 4396 4396 4396 4400 4408 4412 4412 4416 4428 4436 4456 4456 4460 4460 4464 4464 4548 4556 4556 4560 4564 4568 4568 4572 4616 4620 4620 4624 4624 4624 4624 4628 4640 4640 4676 4684 4700 4732 4732 4804 4812 4812 4812 4816 4820 4960 4984 4992 5016 5036 5068 5076 5076 5080 5092 5108 5112 5144 5144 5148 5148 5152 5152 5152 5156 5168 5168 5168 5172 5172 5248 5264 5272 5272 5276 5296 5300 5300 5300 5304 5316 5316 5320 5328 5348 5348 5352 5360 5364 5416 5432 5436 5440 5440 5444 5488 5496 5496 5512 5512 5516 5580 5584 5584 5584 5588 5596 5600 5604 5744 5744 5748 5756 5756 5760 5764 6048 6048 6052 6052 6060 6060 6092 6092 6092 6112 6112 6112 6148 6148 6164 6172 6188 6200 6204 6204 6224 6224 6260 6272 6280 6280 6280 6284 6284 6288 6296 6316 6316 6316 6384 6396 6404 6420 6456 6456 6456 6456 6460 6468 6476 6476 6480 6488 6492 6496 6524 6556 6564 6568 6576 6576 6596 6596 6600 6600 6604 6668 6672 6808 6808 6828 6828 6864 6868 6876 6880 6884 6892 6892 6896 6904 6924 6932 6936 6940 6952 6972 6972 6980 6980 6984 7020 7028 7028 7048 7052 7052 7060 7064 7080 7080 7116 7116 7120 7196 7204 7204 7204 7208 7220 7220 7244 7284 7284 7288 7292 7300 7300 7320 7332 7348 7352 7384 7384 7388 7392 7392 7392 7468 7468 7484 7488 7488 7492 7628 7628 7632 7636 7644 7648 7660 7684 7700 7736 7736 7736 7736 7740 7748 7752 7756 8020 8028 8032 8096 8100 8108 8624 8624 8632 8648 8648 8652 8656 8656 8660 9704 9720 9724 9724 9724 9728 9736 9740 9740 9792 9800 9828 9832 9868 9936 9936 9940 9948 9948 9948 9952 9960 9960 9964 9964 9964 9968 10104 10104 10108 10108 10136 10160 10196 10204 10204 10220 10224 10224 10224 10228 10236 10240 10240 10244 10292 10300 10300 10300 10304 10304 10404 10404 10404 10404 10408 10412 10420 10444 10444 10444 10448 10456 10456 10460 10464 10508 10532 10536 10548 10552 10568 10600 10604 10604 10616 10696 10708 10724 10852 10852 10852 10852 10856 10856 10856 10860 10872 10872 10876 10876 11176 11184 11184 11184 11188 11192 11192 11196 11216 11224 11228 11228 11248 11256 11272 11280 11284 11304 11316 11316 11316 11320 11320 11344 11344 11344 11376 11380 11388 11388 11388 11392 11396 11472 11484 11484 11484 11484 11488 11548 11548 11548 11552 11552 11564 11584 11592 11592 11592 11600 11608 11612 11652 11652 11660 11660 11672 11676 11700 11716 11752 11816 11816 11816 11816 11816 11820 11824 11968 11976 12000 12000 12020 12020 12056 12064 12064 12068 12068 12068 12076 12084 12088 12088 12092 12092 12180 12188 12200 12208 12224 12228 12232 12232 12232 12232 12232 12236 12248 12248 12268 12300 12300 12308 12316 12332 12336 12376 12376 12380 12384 12384 12388 12460 12464 12464 12468 12496 12516 12532 12568 12568 12700 12708 12712 12712 12712 12716 12984 12984 12984 12984 12988 13000 13000 13000 13000 13520 13524 13540 13576 13576 13580 13588 13588 13588 13588 13592 13628 13628 13628 13632 13640 13644 13716 13724 13752 13752 13772 13772 13776 13788 13812 13828 13832 13832 13832 13832 13832 13836 13844 13848 13852 13896 13912 13916 13948 13948 14016 14024 14028 14032 14036 14036 14036 14036 14168 14168 14176 14180 14200 14208 14208 14212 14220 14224 14268 14272 14272 14284 14308 14324 14328 14328 14328 14332 14340 14376 14376 14380 14384 14392 14396 14396 14400 14492 14492 14496 14496 14508 14516 14532 14532 14536 14548 14564 14564 14564 14568 14572 14612 14612 14628 14628 14632 14632 14636 14640 14652 14660 14676 14676 14680 14700 14708 14708 14712 14716 14720 Final state:\n"
     ]
    },
    {
     "data": {
      "image/png": "[encoded data removed]",
      "text/plain": [
       "<Figure size 640x480 with 1 Axes>"
      ]
     },
     "metadata": {},
     "output_type": "display_data"
    }
   ],
   "source": [
    "initial_state = make_new_game(4)\n",
    "# initial_state = ([[0, 0, 0, 0], [8, 2, 0, 0], [4, 0, 0, 0], [4, 64, 8, 2]], 348, ())\n",
    "\n",
    "print('Initial state:')\n",
    "printboardstate(initial_state)\n",
    "\n",
    "num_tries = 200\n",
    "max_depth = 8\n",
    "    \n",
    "current_state = initial_state\n",
    "print('Score:')\n",
    "while game_status(get_matrix(current_state)) == \"not over\":\n",
    "    # Only evaluate for valid moves\n",
    "    bestscore = -1\n",
    "    bestmove = \"\"\n",
    "    \n",
    "    for move in ['up', 'down', 'left', 'right']:\n",
    "        _, valid = game_logic[move](current_state)\n",
    "        if not valid: continue\n",
    "        \n",
    "        # perform monte carlo simulation for each of the valid moves\n",
    "        montecarlo_state, _ = game_logic[move](current_state)\n",
    "        montecarlo_score = playthrough(montecarlo_state, num_tries, max_depth)\n",
    "        if montecarlo_score > bestscore:\n",
    "            bestscore = montecarlo_score\n",
    "            bestmove = move\n",
    "    \n",
    "    # do the move with the highest score\n",
    "    current_state, _ = game_logic[bestmove](current_state)\n",
    "    \n",
    "#     print('Best move:', bestmove, 'Score:', current_state[1])\n",
    "    print(current_state[1], end = ' ')\n",
    "    \n",
    "print('Final state:')\n",
    "printboardstate(current_state)\n"
   ]
  },
  {
   "cell_type": "markdown",
   "metadata": {},
   "source": [
    "# Monte Carlo Tree Search based AI"
   ]
  },
  {
   "cell_type": "code",
   "execution_count": 50,
   "metadata": {},
   "outputs": [
    {
     "name": "stdout",
     "output_type": "stream",
     "text": [
      "Initial state:\n"
     ]
    },
    {
     "data": {
      "image/png": "[encoded data removed]",
      "text/plain": [
       "<Figure size 640x480 with 1 Axes>"
      ]
     },
     "metadata": {},
     "output_type": "display_data"
    },
    {
     "name": "stdout",
     "output_type": "stream",
     "text": [
      "Score:\n",
      "0 0 4 4 8 12 20 20 20 24 28 28 28 32 36 52 56 56 60 64 64 64 64 68 68 68 72 80 96 96 100 108 112 116 116 120 156 164 164 168 168 168 168 172 180 184 220 252 272 272 272 272 272 276 288 288 352 384 388 388 388 392 392 392 392 392 504 512 520 520 520 520 544 544 548 556 572 616 616 704 712 716 716 720 720 724 732 732 732 736 744 748 748 748 752 756 756 900 908 932 952 952 956 956 956 960 968 968 972 980 984 988 988 1024 1024 1028 1052 1072 1084 1088 1128 1128 1128 1132 1140 1140 1144 1144 1168 1180 1180 1180 1180 1196 1296 1296 1304 1316 1316 1320 1352 1368 1372 1408 1480 1480 1480 1484 1488 1628 1628 1632 1632 1636 1644 1644 1644 1648 1660 1660 1660 1664 1664 1668 1976 1980 1984 1984 1984 1984 1988 2000 2008 2008 2012 2012 2016 2020 2020 2024 2108 2148 2164 2168 2168 2172 2172 2172 2172 2172 2176 2184 2184 2188 2196 2200 2308 2332 2348 2380 2384 2384 2384 2388 2388 2388 2392 2400 2404 2412 2416 2416 2420 2500 2508 2508 2512 2512 2516 2516 2652 2656 2680 2700 2708 2708 2728 2732 2732 2732 2736 2744 2744 2772 2812 2848 2860 2868 2868 2868 2872 2872 2872 2876 2884 2900 2900 2904 2908 2912 2916 2916 2984 2984 3000 3004 3020 3020 3024 3076 3076 3080 3088 3092 3112 3112 3120 3128 3144 3144 3180 3244 3372 3388 3388 3392 3396 3408 3408 3408 3408 3412 3416 3692 3716 3720 3724 3724 3724 3732 3732 3772 3772 3772 3780 3804 3804 3804 3812 3824 3832 3832 3832 3832 3836 3840 4384 4392 4392 4408 4412 4424 4428 4444 4444 4448 4448 4448 4452 4460 4464 4464 4512 4520 4536 4540 4540 4540 4540 4544 4552 4556 4680 4712 4796 4796 4796 4800 4804 4804 4804 4808 4808 4812 4824 4824 4828 4836 4856 4856 4856 5008 5008 5012 5028 5044 5096 5096 5096 5096 5100 5104 5104 5108 5120 5120 5124 5124 5124 5180 5188 5188 5192 5192 5212 5212 5216 5216 5216 5280 5284 5288 5296 5316 5328 5328 5328 5332 5360 5372 5380 5384 5384 5388 5388 5388 5440 5448 5468 5468 5468 5468 5472 5516 5516 5532 5540 5540 5544 5544 5560 5592 5660 5664 5664 5664 5668 5800 5808 5808 5812 6072 6092 6100 6104 6104 6104 6104 6144 6144 6148 6156 6156 6156 6160 6164 6200 6208 6208 6276 6284 6288 6288 6312 6312 6320 6324 6332 6332 6336 6356 6364 6364 6368 6376 6392 6396 6452 6460 6460 6464 6468 6476 6480 6488 6492 6548 6548 6552 6552 6556 6564 6580 6584 6584 6584 6664 6664 6668 6668 6672 6680 6680 6684 6832 6844 6844 6844 6848 6856 6860 6860 6920 6936 6940 6948 6984 6984 6988 6988 6988 6988 6992 7004 7004 7008 7016 7036 7036 7104 7104 7152 7164 7188 7188 7192 7196 7196 7196 7196 7196 7200 7212 7228 7232 7240 7260 7300 7300 7304 7372 7376 7504 7760 7760 7764 7764 7768 7776 7776 7780 8312 8312 8316 8316 8316 8320 8328 8332 9404 9412 9412 9412 9416 9416 9444 9476 9480 9480 9480 9484 9492 9496 9500 9508 9528 9536 9552 9556 9556 9560 9560 9564 9572 9576 9588 9588 9588 9592 9688 9752 9752 9772 9772 9812 9812 9816 9820 9896 9896 9896 9896 9896 9900 9908 9912 9916 9916 9916 10060 10068 10068 10072 10080 10080 10080 10084 10084 10088 10096 10112 10116 10120 10148 10152 10152 10156 10188 10228 10244 10248 10248 10248 10252 10256 10256 10256 10320 10328 10408 10408 10412 10412 10412 10412 10416 10416 10420 10428 10432 10484 10492 10492 10492 10492 10496 10516 10524 10524 10540 10540 10544 10592 10592 10592 10596 10604 10604 10608 10688 10700 10828 10828 10832 10832 10832 10832 10856 10856 10860 10860 10872 10896 10896 10896 10900 11168 11176 11184 11220 11220 11220 11224 11224 11228 11236 11240 11240 11244 11252 11272 11272 11276 11344 11344 11348 11364 11364 11368 11368 11372 11380 11384 11404 11408 11408 11412 11420 11452 11456 11540 11540 11544 11544 11552 11568 11584 11628 11636 11636 11636 11640 11640 11708 11708 11712 11720 11720 11724 11876 11876 11876 11884 11884 11888 11896 11900 11924 11940 11956 11956 11960 11968 11972 11972 11972 12028 12036 12040 12044 12044 12068 12068 12072 12072 12076 12076 12088 12120 12120 12124 12144 12144 12148 12160 12160 12164 12172 12192 12192 12196 12236 12240 12248 12252 12252 12256 12264 12284 12284 12352 12360 12364 12376 12376 12380 12388 12404 12436 12436 12508 12636 12636 12640 12644 12916 12916 12920 12920 12920 12924 12932 12936 13456 13456 13472 13488 13492 13492 13492 13536 13544 13576 13612 13612 13612 13616 13628 13628 13628 13632 13632 13652 13664 13664 13668 13668 13668 13672 13680 13696 13700 13744 13808 13820 13828 13844 13864 13864 13900 13904 13976 13976 13976 13976 13980 13992 13996 13996 13996 14000 14000 14004 14148 14156 14160 14160 14160 14160 14172 14180 14200 14200 14204 14204 14208 14236 14284 14296 14312 14320 14324 14356 14360 14360 14360 14368 14372 14380 14380 14380 14384 14384 14464 14472 14476 14476 14500 14504 14504 14508 14508 14508 14536 14540 14540 14544 14544 14588 14588 14588 14608 14608 14616 14620 14628 14636 14652 14652 14656 14700 14700 14704 14704 14712 14732 14736 14736 14748 14756 14760 14776 14776 14812 14816 14824 14844 14856 14920 14920 14920 14924 14940 14940 14940 14940 14944 14956 14976 14984 15112 15116 15116 15116 15376 15376 15380 15392 15416 15420 15420 15424 15424 15440 15460 15492 15492 15496 15500 15500 15508 15528 15528 15532 15540 15556 15560 15564 15608 15608 15608 15612 15680 15680 15684 15692 15696 15704 15720 15724 15756 15760 15772 15772 15776 15784 15804 15804 15868 16000 16008 16028 16036 16036 16036 16040 16080 16080 16088 16092 16100 16104 16104 16108 16116 16136 16136 16140 16148 16200 16200 16204 16204 16208 16216 16228 16244 16248 16260 16276 16280 16316 16316 16316 16320 16320 16324 16332 16336 16412 16428 16436 16440 16440 16448 16464 16500 16500 16500 16572 16576 16584 16716 16716 16720 16720 16724 16732 17004 17036 17036 17036 17560 17580 17580 17580 17588 17588 17596 17596 17596 17596 17600 17612 17612 18640 18648 18664 18664 18668 20724 20740 20756 20772 20804 20808 20820 20820 20820 20824 20828 20828 20828 20832 20900 20912 20912 20912 20916 20932 20956 20956 20960 20964 20964 20976 20992 21024 21028 21040 21040 21040 21040 21044 21052 21056 21100 21100 21136 21144 21160 21168 21208 21212 21216 21216 21216 21216 21220 21228 21228 21232 21240 21256 21260 21260 21340 21340 21340 21340 21344 21352 21356 21500 21516 21552 21560 21560 21564 21568 21568 21568 21568 21572 21576 21652 21676 21688 21708 21724 21756 21756 21756 21760 21760 21760 21764 21776 21780 21788 21792 21792 21820 21828 21832 21848 21848 21848 21888 21892 21892 21892 21892 21968 21968 21968 22104 22112 22112 22112 22116 22120 22136 22136 22400 22408 22428 22428 22428 22428 22432 22464 22472 22472 22472 22472 22476 22532 22540 22544 22544 22544 22544 22548 22556 22576 22576 22624 22624 22628 22628 22632 22640 22644 22644 22724 22736 22744 22744 22748 22756 22760 22760 22764 22772 22788 22792 22844 22844 22884 22892 22896 22904 22908 22972 22972 22972 22972 22976 22980 23124 23132 23156 23160 23160 23164 23172 23176 23176 23176 23196 23200 23200 23208 23228 23236 23236 23240 23240 23244 23280 23280 23288 23312 23320 23344 23380 23380 23380 23384 23384 23388 23388 23456 23456 23488 23496 23496 23500 23500 23504 23512 23512 23516 23568 23568 23572 23580 23584 23584 23592 23612 23620 23624 23656 23660 23664 23672 23676 23676 23680 23688 23708 23708 23776 23784 23788 23788 23920 23924 23932 23936 23936 24208 24208 24760 24760 24764 24764 24764 24768 24776 24780 24816 24824 24828 24836 24868 24904 24908 24912 24920 24936 24968 24968 24968 24972 24980 24984 24996 25000 25000 25004 25004 25004 25008 25012 25020 25040 25048 25068 25164 25168 25176 25180 25188 25192 25192 25192 25192 25196 25204 25204 25208 25296 25308 25308 25308 25308 25312 25320 25320 25324 25460 25468 25484 25484 25484 25488 25496 25500 25524 25524 25524 25532 25544 25560 25564 25600 25640 25644 25644 25644 25644 25648 25660 25660 25736 25736 25756 25764 25764 25768 25772 25780 25800 25820 25820 25824 25856 25856 25856 25860 25864 25872 25876 25888 25888 25912 25948 26016 26020 26028 26156 26156 26160 26168 26172 26172 26172 26436 26444 26444 26448 26484 26500 26504 26520 26524 26524 26528 26540 26540 26540 26540 26544 26548 26552 26552 26572 26572 26572 26624 26632 26636 26644 26660 26696 26700 26700 26704 26712 26724 26724 26724 26728 26736 26740 26744 26816 26820 26820 26824 26824 26844 26852 26868 26868 26872 26876 26912 26912 26916 26932 26936 26952 26956 26956 26960 27004 27020 27024 27024 27024 27092 27100 27100 27104 27116 27132 27132 27136 27148 27188 27208 27208 27208 27212 27212 27216 27352 27352 27356 27364 27384 27384 27388 27432 27436 27448 27452 27468 27476 27480 27496 27528 27528 27528 27532 27536 27540 27544 27544 27552 27616 27628 27632 27644 27644 27644 27660 27664 27672 27676 27692 27724 27804 27932 28192 28204 28208 28208 28208 28744 28748 28756 28760 28760 28760 28764 28764 28768 28776 28780 28780 28780 28784 29820 29820 29824 29852 29876 29876 29876 29876 29876 29880 29888 29892 29936 29944 29964 29964 29968 29968 29968 29968 29972 29984 29984 30056 30056 30056 30056 30060 30060 30060 30068 30076 30092 30092 30096 30172 30172 30176 30176 30188 30224 30256 30256 30256 30256 30260 30268 30272 30312 30328 30328 30332 30336 30416 30436 30436 30440 30440 30440 30448 30468 30468 30468 30472 30472 30476 30616 30616 30616 30656 30656 30660 30660 30664 30684 30684 30688 30688 30712 30712 30716 30732 30736 30780 30796 30796 30804 30812 30824 30840 30876 30884 30900 30900 30900 30900 30904 30904 30908 30912 30988 30992 31000 31020 31052 31116 31116 31120 31124 31128 31128 31132 31284 31284 31288 31288 31292 31304 31308 31308 31308 31308 31312 31596 31596 31600 31600 31604 31612 31612 31616 31660 31672 31672 31672 31676 31680 31688 31728 31744 31748 31752 31756 31788 31792 31792 31796 31804 31804 31808 31808 31812 31820 31840 31840 31904 31908 31920 31936 31936 31940 31984 31996 32000 32000 32000 32000 32004 32012 32032 32032 32036 32044 32048 32084 32100 32104 32136 32140 32204 32204 32208 32212 32220 32224 32352 32364 32364 32364 32372 32388 32404 32408 32408 32408 32412 32420 32424 32424 32428 32436 32456 32492 32516 32520 32520 32524 32524 32524 32544 32544 32548 32556 32596 32600 32604 32604 32616 32620 32620 32644 32648 32656 32660 32660 32664 32672 32692 32724 32728 32728 32732 32740 32744 32812 32820 32836 32836 32840 32848 32868 32868 32908 32908 32908 32972 32976 32984 32988 33000 33024 33040 33044 33044 33048 33056 33056 33060 33096 33108 33124 33124 33124 33164 33164 33176 33180 33180 33184 33192 33208 33336 33336 33340 33344 33364 33368 33368 33368 33624 34148 34152 34160 34160 34164 34184 34184 34188 34188 34200 34200 34284 34284 34284 34288 34300 34320 34328 34328 34328 34332 34368 34376 34396 34396 34400 34408 34408 34412 34448 34456 34460 34468 34488 34488 34492 34500 34520 34520 34556 34632 34636 34636 34636 34640 34648 34652 34652 34656 34664 34680 34684 34684 34816 34816 34820 34828 34848 34888 34888 34888 34892 34964 34980 34980 34980 34984 34984 34988 35012 35020 35036 35040 35040 35044 35044 35084 35084 35096 35096 35100 35108 35128 35168 35172 35172 35172 35176 35180 35248 35252 35252 35380 35384 35392 35408 35412 35416 35428 35428 35432 35440 35448 35452 35472 35480 35480 35484 35488 35496 35504 35508 35512 35536 35552 35588 35588 35620 35620 35624 35636 35636 35640 35900 35908 35908 35932 35932 35932 35936 35948 35956 35960 35960 35976 35980 35984 35992 36008 36040 36044 36112 36112 36124 36148 36148 36152 36160 36164 36164 36168 36176 36196 36196 36200 36204 36212 36232 36236 36240 36248 36248 36252 36284 Final state:\n"
     ]
    },
    {
     "data": {
      "image/png": "[encoded data removed]",
      "text/plain": [
       "<Figure size 640x480 with 1 Axes>"
      ]
     },
     "metadata": {},
     "output_type": "display_data"
    }
   ],
   "source": [
    "initial_state = make_new_game(4)\n",
    "\n",
    "print('Initial state:')\n",
    "printboardstate(initial_state)\n",
    "\n",
    "debug = False\n",
    "\n",
    "initial_tries = 20\n",
    "num_tries = 400\n",
    "max_depth = 15\n",
    "\n",
    "indextomove = {0: 'up', 1: 'down', 2: 'left', 3: 'right'}\n",
    "movetoindex = {'up': 0, 'down': 1, 'left': 2, 'right': 3}\n",
    "    \n",
    "current_state = initial_state\n",
    "print('Score:')\n",
    "while game_status(get_matrix(current_state)) == \"not over\":\n",
    "    # Only evaluate for valid moves\n",
    "    bestscore = -1\n",
    "    bestmove = \"\"\n",
    "    validmoves = []\n",
    "    \n",
    "    action_score = np.array([0, 0, 0, 0])\n",
    "    action_tries = np.array([0, 0, 0, 0])\n",
    "    \n",
    "    exploration_tries, exploration_score = 0, 0\n",
    "    \n",
    "    maxscore = 0\n",
    "    \n",
    "    for move in ['up', 'down', 'left', 'right']:\n",
    "        _, valid = game_logic[move](current_state)\n",
    "        if valid: validmoves.append(move)\n",
    "        # if not valid, still increment the initial tries variable for that move to avoid division by 0\n",
    "        else: \n",
    "            action_tries[movetoindex[move]] = initial_tries\n",
    "            action_score[movetoindex[move]] = -1000000\n",
    "            continue\n",
    "        \n",
    "        # do an initial exploration of each valid move\n",
    "        for tries in range(initial_tries):\n",
    "            # perform monte carlo simulation for that move\n",
    "            montecarlo_state, _ = game_logic[move](current_state)\n",
    "            montecarlo_score = playthrough(montecarlo_state, 1, max_depth)\n",
    "\n",
    "            # add the score and tries to the action node\n",
    "            maxindex = movetoindex[move]\n",
    "            action_tries[maxindex] += 1\n",
    "            action_score[maxindex] += montecarlo_score\n",
    "            \n",
    "            exploration_tries += 1\n",
    "            exploration_score += montecarlo_score\n",
    "    \n",
    "    # we peg the exploration constant to the average montecarlo score of the initial trials\n",
    "    c = exploration_score/exploration_tries\n",
    "#     c = 10\n",
    "            \n",
    "    for totaltries in range(num_tries):\n",
    "        \n",
    "        # perform an explore-exploit tradeoff calculation to find out which move to go first\n",
    "        action_heuristic = action_score/action_tries + c*np.sqrt(np.log(totaltries+1)/action_tries)\n",
    "        \n",
    "#         print(action_heuristic)\n",
    "#         print(np.sqrt((totaltries+1)/action_tries))\n",
    "#         print('Exploration',c*np.sqrt(np.log(totaltries+1)/action_tries))\n",
    "        \n",
    "        maxindex = np.argmax(action_heuristic)        \n",
    "        move = indextomove[maxindex]\n",
    "        \n",
    "        # perform monte carlo simulation for that move\n",
    "        montecarlo_state, _ = game_logic[move](current_state)\n",
    "        montecarlo_score = playthrough(montecarlo_state, 1, max_depth)\n",
    "        \n",
    "        # add the score and tries to the action node\n",
    "        action_tries[maxindex] += 1\n",
    "        action_score[maxindex] += montecarlo_score\n",
    "        \n",
    "        \n",
    "    if debug:\n",
    "        print('Exploration Factor', c)\n",
    "        print('Number of tries', action_tries)\n",
    "        print('Average score', action_score/action_tries)\n",
    "\n",
    "        \n",
    "    # best move is the highest score\n",
    "#     bestmoveindex = np.where(action_tries == max(action_tries))[0][0]\n",
    "    bestmoveindex = np.argmax(action_score/action_tries)\n",
    "    bestmove = indextomove[bestmoveindex]\n",
    "    \n",
    "    # do the move with the highest score\n",
    "    current_state, _ = game_logic[bestmove](current_state)\n",
    "    \n",
    "    if debug:\n",
    "        print('Best move:', bestmove)\n",
    "    print(current_state[1], end = ' ')\n",
    "\n",
    "print('Final state:')\n",
    "printboardstate(current_state)"
   ]
  },
  {
   "cell_type": "code",
   "execution_count": null,
   "metadata": {},
   "outputs": [],
   "source": []
  },
  {
   "cell_type": "code",
   "execution_count": null,
   "metadata": {},
   "outputs": [],
   "source": []
  },
  {
   "cell_type": "code",
   "execution_count": null,
   "metadata": {},
   "outputs": [],
   "source": []
  },
  {
   "cell_type": "code",
   "execution_count": null,
   "metadata": {},
   "outputs": [],
   "source": []
  },
  {
   "cell_type": "code",
   "execution_count": null,
   "metadata": {},
   "outputs": [],
   "source": []
  },
  {
   "cell_type": "markdown",
   "metadata": {},
   "source": [
    "# DQN"
   ]
  },
  {
   "cell_type": "code",
   "execution_count": null,
   "metadata": {},
   "outputs": [],
   "source": []
  }
 ],
 "metadata": {
  "kernelspec": {
   "display_name": "Python 3",
   "language": "python",
   "name": "python3"
  },
  "language_info": {
   "codemirror_mode": {
    "name": "ipython",
    "version": 3
   },
   "file_extension": ".py",
   "mimetype": "text/x-python",
   "name": "python",
   "nbconvert_exporter": "python",
   "pygments_lexer": "ipython3",
   "version": "3.7.6"
  }
 },
 "nbformat": 4,
 "nbformat_minor": 5
}
