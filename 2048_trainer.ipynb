{
 "cells": [
  {
   "cell_type": "code",
   "execution_count": 1,
   "metadata": {},
   "outputs": [],
   "source": [
    "import numpy as np\n",
    "from random import *"
   ]
  },
  {
   "cell_type": "markdown",
   "metadata": {},
   "source": [
    "# Set up environment"
   ]
  },
  {
   "cell_type": "code",
   "execution_count": 2,
   "metadata": {},
   "outputs": [],
   "source": [
    "####################\n",
    "# Helper Functions #\n",
    "####################\n",
    "\n",
    "def accumulate(fn, initial, seq):\n",
    "    if not seq:\n",
    "        return initial\n",
    "    else:\n",
    "        return fn(seq[0], \n",
    "                  accumulate(fn, initial, seq[1:]))\n",
    "    \n",
    "def flatten(mat):\n",
    "    return [num for row in mat for num in row]\n",
    "\n",
    "def has_zero(mat):\n",
    "    return 0 in flatten(mat)\n",
    "\n",
    "def transpose(mat):\n",
    "    return list(map(list,zip(*mat)))\n",
    "\n",
    "# Before Transpose:\n",
    "# 1 2 3 4\n",
    "# 5 6 7 8\n",
    "# 9 10 11 12\n",
    "# 13 14 15 16\n",
    "\n",
    "# After Transpose\n",
    "# 1 5 9 13\n",
    "# 2 6 10 14\n",
    "# 3 7 11 15\n",
    "# 4 8 12 16\n",
    "\n",
    "\n",
    "def reverse(mat):\n",
    "    return list(map(lambda row: list(reversed(row)),mat))\n",
    "\n",
    "# Before Reverse:\n",
    "# 1 2 3 4\n",
    "# 5 6 7 8\n",
    "# 9 10 11 12\n",
    "# 13 14 15 16\n",
    "\n",
    "# After Reverse\n",
    "# 4 3 2 1\n",
    "# 8 7 6 5\n",
    "# 12 11 10 9\n",
    "# 16 15 14 13\n",
    "\n",
    "\n",
    "###################\n",
    "# Game Matrix ADT #\n",
    "###################\n",
    "\n",
    "def new_game_matrix(n):\n",
    "    matrix = []\n",
    "    for i in range(n):\n",
    "        matrix.append([0] * n)\n",
    "    return matrix\n",
    "\n",
    "\n",
    "def add_two(mat):\n",
    "    if not has_zero(mat):\n",
    "        return mat\n",
    "    a = randint(0, len(mat)-1)\n",
    "    b = randint(0, len(mat)-1)\n",
    "    while mat[a][b] != 0:\n",
    "        a = randint(0, len(mat)-1)\n",
    "        b = randint(0, len(mat)-1)\n",
    "    mat[a][b] = 2\n",
    "    return mat\n",
    "\n",
    "def game_status(mat):\n",
    "#     for row in mat:\n",
    "#         for element in row:\n",
    "#             if element == 8192:\n",
    "#                 return 'win'\n",
    "\n",
    "    if has_zero(mat):\n",
    "        return 'not over'\n",
    "    for i in range(len(mat)): #Check horizontally\n",
    "        for j in range(len(mat[0])-1):\n",
    "            if mat[i][j] == mat[i][j+1]:\n",
    "                return 'not over'\n",
    "    for i in range(len(mat)-1): #Check vertically\n",
    "        for j in range(len(mat[0])):\n",
    "            if mat[i][j] == mat[i+1][j]:\n",
    "                return 'not over'\n",
    "    return 'lose'\n",
    "\n",
    "def merge_left(matrix):\n",
    "    def merge_row(row):\n",
    "        merged_row, prev_tile, score_increment = [], 0, 0\n",
    "        # pack element by element left-wards\n",
    "        for tile in row:\n",
    "            if tile == 0: continue\n",
    "            if prev_tile == 0:\n",
    "                prev_tile = tile\n",
    "            elif prev_tile != tile:\n",
    "                merged_row.append(prev_tile)\n",
    "                prev_tile = tile\n",
    "            else:\n",
    "                merged_row.append(prev_tile*2)\n",
    "                score_increment += prev_tile*2\n",
    "                prev_tile = 0\n",
    "        merged_row.append(prev_tile) # valid regardless whether there are merges or not\n",
    "        # top up zeros\n",
    "        while len(merged_row) != len(row):\n",
    "            merged_row.append(0)\n",
    "        return (merged_row, merged_row != row, score_increment)\n",
    "\n",
    "    return accumulate(lambda first, rest: ([first[0]] + rest[0], \n",
    "                                            first[1] or rest[1], \n",
    "                                            first[2] + rest[2]),\n",
    "                      ([], False, 0),\n",
    "                      list(map(merge_row, matrix)))\n",
    "\n",
    "def merge_right(mat):\n",
    "    mat, valid, score = merge_left(reverse(mat))\n",
    "    return (reverse(mat), valid, score)\n",
    "\n",
    "def merge_up(mat):\n",
    "    mat, valid, score = merge_left(transpose(mat))\n",
    "    return (transpose(mat), valid, score)\n",
    "\n",
    "def merge_down(mat):\n",
    "    mat, valid, score = merge_left(reverse(transpose(mat)))\n",
    "    return (transpose(reverse(mat)), valid, score)\n",
    "\n",
    "\n",
    "###################\n",
    "# Game Record ADT #\n",
    "###################\n",
    "                \n",
    "def make_new_record(mat, score):\n",
    "    return (mat, score)\n",
    "def get_record_matrix(record):\n",
    "    return record[0]\n",
    "def get_record_score(record):\n",
    "    return record[1]\n",
    "\n",
    "\n",
    "####################\n",
    "# Game Records ADT #\n",
    "####################\n",
    "\n",
    "def new_records():\n",
    "    return []\n",
    "def add_record(new_record, records):\n",
    "    NUM_OF_UNDOS = 3\n",
    "    records.append(new_record)\n",
    "    if num_of_records(records) > NUM_OF_UNDOS:\n",
    "        records = records[-NUM_OF_UNDOS:]\n",
    "    return records\n",
    "def num_of_records(records):\n",
    "    return len(records)\n",
    "def is_empty(records):\n",
    "    return num_of_records(records) <= 0\n",
    "def pop_last_record(records):\n",
    "    if not is_empty(records):\n",
    "        last_record = records.pop()\n",
    "        return (get_record_matrix(last_record),\n",
    "                get_record_score(last_record),\n",
    "                records)\n",
    "    else:\n",
    "        return (None, None, records)\n",
    "\n",
    "##################\n",
    "# Game State ADT #\n",
    "##################\n",
    "\n",
    "def make_state(matrix, total_score, history):\n",
    "    return (matrix, total_score, history)\n",
    "def get_matrix(state):\n",
    "    return state[0]\n",
    "def get_score(state):\n",
    "    return state[1]\n",
    "def get_history(state):\n",
    "    return state[2]\n",
    "def make_new_game(n):\n",
    "    starting_matrix = add_two(add_two(new_game_matrix(n)))\n",
    "    return make_state(starting_matrix, 0, new_records())\n",
    "\n",
    "def execute_move(state, matrix_updater):   \n",
    "    current_score = get_score(state)\n",
    "    next_matrix, valid_move, score_increment = matrix_updater(get_matrix(state))\n",
    "    if not valid_move:\n",
    "        return (state, False)\n",
    "    else:\n",
    "        updated_history = ()\n",
    "        updated_state = make_state(add_two(next_matrix),\n",
    "                                   current_score + score_increment,\n",
    "                                   updated_history)\n",
    "        return (updated_state, True)\n",
    "def left(state):\n",
    "    return execute_move(state, merge_left)\n",
    "def right(state):\n",
    "    return execute_move(state, merge_right)\n",
    "def up(state):\n",
    "    return execute_move(state, merge_up)\n",
    "def down(state):\n",
    "    return execute_move(state, merge_down)\n",
    "\n",
    "def undo(state):\n",
    "    records = get_history(state)\n",
    "    matrix, score, records = pop_last_record(records)\n",
    "    if matrix:\n",
    "        return (make_state(matrix, score, records), True)\n",
    "    else:\n",
    "        return (state, False)    \n",
    "\n",
    "game_logic = {\n",
    "    'make_new_game': make_new_game,\n",
    "    'game_status': game_status,\n",
    "    'get_score': get_score,\n",
    "    'get_matrix': get_matrix,\n",
    "    'up': up,\n",
    "    'down': down,\n",
    "    'left': left,\n",
    "    'right': right,\n",
    "    'undo': undo\n",
    "}"
   ]
  },
  {
   "cell_type": "markdown",
   "metadata": {},
   "source": [
    "# Board State Printing Helper Function"
   ]
  },
  {
   "cell_type": "code",
   "execution_count": 4,
   "metadata": {},
   "outputs": [],
   "source": [
    "import seaborn as sns\n",
    "import matplotlib.pyplot as plt\n",
    "\n",
    "def printboardstate(boardstate):\n",
    "    mat, score, _ = boardstate\n",
    "    sns.heatmap(mat, annot = True, \n",
    "            square = True, cbar = False, cmap = 'YlOrBr', fmt = 'd')\n",
    "    plt.title('Game State with Score ' + str(score))\n",
    "    plt.axis('off')\n",
    "    plt.show()"
   ]
  },
  {
   "cell_type": "markdown",
   "metadata": {},
   "source": [
    "# Random AI"
   ]
  },
  {
   "cell_type": "code",
   "execution_count": 3,
   "metadata": {},
   "outputs": [],
   "source": [
    "def random_move(current_state):\n",
    "    index = np.random.randint(4)\n",
    "    return [\"up\", \"down\", \"left\", \"right\"][index]"
   ]
  },
  {
   "cell_type": "code",
   "execution_count": 5,
   "metadata": {},
   "outputs": [
    {
     "name": "stdout",
     "output_type": "stream",
     "text": [
      "Initial state:\n"
     ]
    },
    {
     "data": {
      "image/png": "[encoded data removed]",
      "text/plain": [
       "<Figure size 640x480 with 1 Axes>"
      ]
     },
     "metadata": {},
     "output_type": "display_data"
    },
    {
     "name": "stdout",
     "output_type": "stream",
     "text": [
      "Final state:\n"
     ]
    },
    {
     "data": {
      "image/png": "[encoded data removed]",
      "text/plain": [
       "<Figure size 640x480 with 1 Axes>"
      ]
     },
     "metadata": {},
     "output_type": "display_data"
    }
   ],
   "source": [
    "current_state = make_new_game(4)\n",
    "\n",
    "print('Initial state:')\n",
    "printboardstate(current_state)\n",
    "\n",
    "while game_status(get_matrix(current_state)) == \"not over\":\n",
    "    best_move = random_move(current_state)\n",
    "    best_move = game_logic[best_move]\n",
    "    current_state, _ = best_move(current_state)\n",
    "    \n",
    "print('Final state:')\n",
    "printboardstate(current_state)"
   ]
  },
  {
   "cell_type": "markdown",
   "metadata": {},
   "source": [
    "# Monte Carlo AI"
   ]
  },
  {
   "cell_type": "code",
   "execution_count": 43,
   "metadata": {},
   "outputs": [],
   "source": [
    "def playthrough(gamestate, num_tries, max_depth):\n",
    "    ''' Takes in a game state, and plays randomly till the end num_tries times, returns the final score '''\n",
    "    score = 0\n",
    "    for i in range(num_tries):\n",
    "        newstate = gamestate\n",
    "        depth = 0\n",
    "        while game_status(get_matrix(newstate)) == \"not over\" and depth<max_depth:\n",
    "            best_move = random_move(newstate)\n",
    "            best_move = game_logic[best_move]\n",
    "            newstate, _ = best_move(newstate)\n",
    "            \n",
    "            depth += 1\n",
    "        score += newstate[1]\n",
    "    \n",
    "    return score/num_tries"
   ]
  },
  {
   "cell_type": "code",
   "execution_count": 44,
   "metadata": {},
   "outputs": [
    {
     "name": "stdout",
     "output_type": "stream",
     "text": [
      "Initial state:\n"
     ]
    },
    {
     "data": {
      "image/png": "[encoded data removed]",
      "text/plain": [
       "<Figure size 640x480 with 1 Axes>"
      ]
     },
     "metadata": {},
     "output_type": "display_data"
    },
    {
     "name": "stdout",
     "output_type": "stream",
     "text": [
      "Score:\n",
      "4 4 4 4 12 20 20 20 24 32 36 52 56 68 68 72 80 96 132 132 136 148 148 148 156 164 164 164 180 184 192 200 208 224 260 324 328 328 332 344 352 372 372 372 380 388 392 400 416 452 452 452 456 464 464 468 472 480 500 504 504 508 516 520 528 548 548 548 552 564 568 576 576 580 580 596 628 628 636 640 712 844 852 872 880 880 916 916 920 928 948 948 948 956 964 968 976 992 1024 1028 1028 1100 1108 1112 1120 1120 1124 1124 1124 1132 1140 1160 1168 1188 1188 1192 1192 1224 1228 1240 1244 1252 1268 1268 1272 1272 1272 1288 1288 1288 1300 1316 1352 1352 1424 1552 1820 1828 1828 1832 1840 1860 1860 1860 1868 1876 1892 1928 1940 1940 1940 1940 1944 1948 1956 1976 1976 1976 1976 1992 2000 2000 2020 2024 2024 2056 2060 2136 2140 2148 2164 2164 2168 2172 2180 2184 2192 2208 2212 2212 2212 2244 2252 2260 2264 2268 2276 2276 2280 2284 2292 2308 2308 2312 2324 2328 2328 2356 2388 2388 2388 2392 2456 2588 2600 2616 2620 2632 2640 2640 2660 2692 2696 2696 2696 2708 2712 2712 2712 2716 2716 2728 2748 2748 2752 2772 2788 2824 2888 2888 2892 2900 2904 2908 2916 2916 2920 2944 2948 2948 2948 2948 2948 2960 2960 2960 2972 2984 3000 3032 3036 3044 3048 3056 3076 3076 3080 3088 3108 3144 3144 3144 3212 3220 3352 3608 4124 4136 4144 4144 4164 4168 4172 4180 4180 4196 4196 4232 4232 4236 4240 4240 4260 4260 4280 4280 4284 4288 4296 4296 4304 4324 4356 4420 4428 4428 4428 4432 4436 4452 4476 4484 4484 4484 4488 4488 4500 4520 4552 4552 4552 4560 4576 4576 4576 4576 4580 4584 4584 4596 4616 4624 4640 4644 4648 4680 4744 4876 4880 4892 4896 4912 4932 4932 4932 4936 4936 4944 4948 4952 4976 4976 5012 5016 5016 5020 5020 5028 5044 5048 5048 5052 5064 5072 5092 5092 5096 5096 5132 5208 5216 5236 5236 5236 5244 5252 5252 5256 5264 5264 5268 5272 5272 5284 5300 5332 5336 5336 5340 5352 5356 5380 5380 5384 5388 5396 5412 5448 5512 5644 5900 5900 5904 5908 5924 5944 5944 5948 5956 5960 5968 5988 6020 6020 6024 6024 6036 6040 6052 6068 6068 6072 6072 6072 6072 6080 6084 6088 6092 6100 6100 6124 6132 6132 6136 6136 6144 6148 6184 6268 6268 6276 6280 6292 6312 6312 6312 6312 6312 6352 6360 6364 6372 6392 6400 6404 6408 6416 6416 6420 6420 6420 6436 6440 6440 6444 6452 6456 6464 6484 6520 6584 6588 6724 6724 6728 6732 6732 6736 6752 6768 6772 6780 6788 6804 6840 6840 6844 6848 6856 6860 6868 6868 6868 6872 6872 6876 6888 6896 6912 6916 6920 6952 7016 7020 7024 7040 7060 7076 7076 7080 7080 7080 7084 7088 7096 7096 7104 7112 7128 7160 7164 7168 7176 7180 7192 7192 7216 7252 7316 7448 7448 7448 7456 7728 7744 8260 8264 9288 9296 9296 9320 9320 9324 9324 9368 9368 9372 9380 9384 9400 9404 9408 9424 9440 9440 9440 9444 9448 9456 9460 9460 9492 9560 9564 9572 9576 9600 9600 9604 9608 9616 9620 9640 9672 9676 9676 9688 9696 9696 9716 9716 9716 9720 9720 9728 9736 9740 9748 9764 9800 9804 9880 10008 10012 10020 10036 10040 10040 10052 10056 10064 10084 10084 10084 10116 10116 10124 10136 10136 10148 10148 10148 10148 10148 10156 10160 10192 10208 10208 10208 10212 10216 10248 10248 10316 10320 10324 10340 10344 10352 10368 10368 10372 10376 10384 10384 10388 10392 10404 10420 10456 10468 10484 10484 10484 10484 10488 10492 10492 10508 10516 10532 10532 10536 10540 10548 10548 10552 10560 10564 10564 10600 10600 10604 10612 10680 10808 10812 11080 11104 11120 11156 11156 11160 11164 11172 11188 11192 11192 11196 11204 11204 11208 11212 11220 11236 11236 11236 11240 11244 11248 11252 11260 11268 11272 11300 11332 11400 11400 11400 11408 11416 11436 11476 11476 11476 11484 11492 11492 11512 11512 11516 11524 11524 11532 11532 11544 11544 11568 11572 11608 11608 11608 11672 11800 11808 11816 11816 11820 11836 11844 11876 11880 11880 11912 11916 11924 11924 11928 11940 11956 11956 11964 11964 11964 11964 11980 11988 11988 11988 12008 12048 12052 12056 12124 12132 12148 12152 12152 12164 12164 12168 12176 12180 12180 12180 12184 12196 12216 12224 12240 12244 12248 12248 12252 12260 12264 12272 12320 12352 12352 12360 12364 12364 12372 12372 12376 12380 12380 12392 12392 12396 12404 12424 12428 12436 12452 12456 12456 12460 12464 12472 12476 12484 12504 12536 12600 12604 12608 12608 12620 12748 12752 12760 13020 13532 13536 13544 13544 13548 13556 13580 13612 13612 13612 13680 13688 13708 13716 13736 13768 13768 13772 13776 13784 13788 13800 13816 13816 13816 13820 13824 13832 13832 13848 13872 13904 13908 13908 13972 14104 14108 14120 14140 14140 14140 14144 14144 14156 14164 14168 14176 14192 14224 14224 14224 14232 14236 14244 14252 14276 14276 14276 14276 14280 14284 14284 14292 14308 14308 14328 14360 14428 14428 14436 14456 14456 14456 14464 14476 14484 14484 14504 14504 14504 14536 14540 14552 14552 14556 14564 14568 14592 14596 14596 14600 14608 14624 14656 14664 14728 14860 14864 14872 15128 15128 15128 15132 15144 15160 15172 15172 15180 15180 15188 15208 15240 15244 15256 15256 15256 15256 15256 15260 15272 15276 15276 15280 15296 15316 15332 15336 15368 15436 15440 15448 15452 15460 15476 15480 15488 15492 15492 15496 15504 15504 15508 15512 15520 15540 15544 15556 15588 15604 15604 15604 15604 15608 15612 15624 15636 15652 15656 15656 15656 15664 15672 15672 15704 15708 15716 15720 15728 15748 15812 15944 15944 15948 15948 15956 15976 16016 16020 16020 16024 16024 16024 16032 16040 16052 16056 16072 16076 16084 16084 16088 16100 16100 16116 16148 16148 16216 16220 16224 16236 16244 16260 16260 16264 16272 16292 16296 16328 16332 16340 16340 16344 16348 16356 16372 16372 16380 16388 16392 16400 16404 16404 16408 16416 16432 16432 16436 16436 16448 16456 16472 16480 16512 16580 16584 16712 16716 16724 16740 16996 17004 17516 18548 20600 20608 20616 20624 20644 20676 20680 20688 20692 20708 20708 20708 20744 20812 20812 20812 20828 20836 20856 20856 20860 20868 20872 20880 20900 20932 20932 20932 20936 20940 20952 20952 20952 20952 20960 20968 20992 20996 20996 21000 21008 21008 21024 21028 21068 21076 21076 21080 21084 21092 21156 21284 21288 21292 21296 21300 21316 21348 21380 21380 21384 21388 21388 21388 21404 21412 21428 21432 21432 21436 21448 21456 21472 21476 21508 21512 21516 21516 21584 21584 21588 21596 21608 21616 21632 21636 21636 21636 21640 21648 21652 21656 21656 21656 21676 21676 21688 21692 21700 21724 21764 21764 21764 21768 21780 21780 21784 21792 21808 21840 21904 21912 21912 21912 22044 22044 22048 22060 22060 22088 22088 22092 22104 22120 22380 22388 22388 22420 22420 22424 22436 22456 22456 22464 22468 22472 22472 22484 22484 22504 22504 22536 22600 22608 22628 22644 22648 22652 22652 22660 22660 22664 22676 22692 22724 22728 22736 22736 22744 22752 22756 22756 22756 22764 22772 22788 22788 22788 22796 22804 22820 22824 22824 22824 22828 22864 22876 22940 23068 23072 23072 23076 23088 23096 23100 23100 23104 23112 23132 23148 23184 23192 23192 23192 23192 23200 23208 23224 23236 23236 23244 23256 23256 23256 23260 23268 23272 23288 23288 23324 23332 23352 23356 23356 23356 23364 23380 23400 23432 23496 23500 23508 23512 23520 23536 23536 23540 23544 23552 23556 23556 23556 23560 23564 23564 23580 23588 23604 23636 23636 23640 23648 23672 23672 23672 23672 23676 23680 23692 23692 23700 23704 23712 23716 23716 23736 23740 23740 23840 23848 23852 23872 23880 23880 23880 23880 24012 24016 24020 24024 24040 24056 24056 24056 24060 24064 24076 24076 24084 24104 24136 24204 24216 24232 24268 24268 24268 24528 25040 25040 25044 25052 25056 25068 25084 25088 25096 25096 25100 25112 25128 25136 25140 25140 25140 25144 25180 25192 25196 25196 25200 25208 25288 25420 25420 25424 25436 25436 25444 25464 25468 25468 25472 25488 25488 25536 25540 25540 25544 25556 25576 25612 25612 25612 25612 25688 25696 25696 25720 25728 25728 25732 25732 25732 25736 25748 25764 25800 25804 25804 25808 25808 25820 25828 25828 25832 25840 25860 25864 25872 25888 25888 25924 25924 25932 25932 25940 26008 26136 26400 26408 26424 26432 26432 26440 26448 26464 26468 26472 26472 26512 26512 26512 26520 26520 26528 26552 26560 26560 26564 26564 26568 26576 26580 26584 26596 26612 26612 26616 26624 26640 26640 26672 26672 26684 26692 26696 26764 26764 26772 26776 26776 26780 26792 26808 26848 26848 26848 26852 26868 26876 26884 26888 26896 26900 26900 26900 26920 26920 26920 26956 26956 26956 26964 27036 27176 27184 27204 27208 27216 27232 27236 27236 27236 27244 27276 27284 27292 27300 27304 27312 27328 27328 27328 27332 27332 27336 27340 27348 27352 27376 27376 27384 27392 27408 27412 27412 27416 27416 27420 27424 27436 27436 27468 27468 27532 27536 27544 27548 27568 27568 27580 27592 27608 27640 27644 27648 27648 27660 27660 27664 27668 27684 27684 27688 27688 27708 27708 27708 27712 27724 27740 27744 27752 27752 27756 27768 27784 27816 27820 27828 27828 27896 28024 28280 28796 28796 29836 29844 29864 29864 29900 29912 29936 29936 29972 30036 30040 30040 30044 30052 30052 30076 30076 30076 30080 30084 30100 30120 30156 30164 30164 30164 30172 30180 30180 30184 30184 30184 30188 30208 30216 30228 30244 30248 30252 30260 30260 30260 30292 30360 30500 30500 30520 30524 30532 30536 30544 30548 30564 30564 30600 30604 30604 30608 30616 30616 30620 30628 30648 30648 30652 30652 30656 30672 30692 30692 30692 30700 30700 30708 30712 30712 30712 30748 30752 30824 30828 30836 30856 30864 30880 30888 30892 30892 30900 30900 30904 30916 30932 30936 30968 30972 30972 30984 30992 31008 31012 31012 31048 31048 31052 31124 31256 31512 31524 31544 31552 31556 31556 31556 31560 31564 31564 31572 31576 31584 31600 31636 31640 31648 31664 31664 31676 31676 31688 31688 31692 31700 31700 31704 31720 31728 31764 31832 31832 31832 31832 31836 31844 31864 31864 31872 31872 31884 31892 31908 31908 31912 31912 31912 31912 31956 31972 31976 32000 32004 32004 32004 32008 32008 32008 32012 32012 32016 32028 32032 32056 32088 32092 32096 32096 32100 32108 32180 32312 32312 32312 32312 32316 32324 32340 32372 32372 32376 32380 32392 32416 32452 32452 32456 32456 32456 32460 32468 32488 32520 32524 32588 32596 32600 32612 32628 32628 32632 32644 32644 32648 32648 32648 32652 32660 32680 32720 32724 32724 32728 32740 32756 32756 32760 32760 32760 32768 32784 32788 32788 32808 32816 32816 32820 32820 32828 32836 32840 32848 32868 32900 32964 32964 32968 32968 32968 32972 32988 33000 33016 33048 33052 33060 33080 33080 33084 33084 33088 33096 33100 33100 33104 33120 33140 33140 33144 33144 33144 33148 33160 33176 33176 33180 33192 33192 33196 33204 33208 Final state:\n"
     ]
    },
    {
     "data": {
      "image/png": "[encoded data removed]",
      "text/plain": [
       "<Figure size 640x480 with 1 Axes>"
      ]
     },
     "metadata": {},
     "output_type": "display_data"
    }
   ],
   "source": [
    "initial_state = make_new_game(4)\n",
    "# initial_state = ([[0, 0, 0, 0], [8, 2, 0, 0], [4, 0, 0, 0], [4, 64, 8, 2]], 348, ())\n",
    "\n",
    "print('Initial state:')\n",
    "printboardstate(initial_state)\n",
    "\n",
    "num_tries = 200\n",
    "max_depth = \n",
    "    \n",
    "current_state = initial_state\n",
    "print('Score:')\n",
    "while game_status(get_matrix(current_state)) == \"not over\":\n",
    "    # Only evaluate for valid moves\n",
    "    bestscore = -1\n",
    "    bestmove = \"\"\n",
    "    \n",
    "    for move in ['up', 'down', 'left', 'right']:\n",
    "        _, valid = game_logic[move](current_state)\n",
    "        if not valid: continue\n",
    "        \n",
    "        # perform monte carlo simulation for each of the valid moves\n",
    "        montecarlo_state, _ = game_logic[move](current_state)\n",
    "        montecarlo_score = playthrough(montecarlo_state, num_tries, max_depth)\n",
    "        if montecarlo_score > bestscore:\n",
    "            bestscore = montecarlo_score\n",
    "            bestmove = move\n",
    "    \n",
    "    # do the move with the highest score\n",
    "    current_state, _ = game_logic[bestmove](current_state)\n",
    "    \n",
    "#     print('Best move:', bestmove, 'Score:', current_state[1])\n",
    "    print(current_state[1], end = ' ')\n",
    "    \n",
    "print('Final state:')\n",
    "printboardstate(current_state)\n"
   ]
  },
  {
   "cell_type": "markdown",
   "metadata": {},
   "source": [
    "# Monte Carlo Tree Search based AI"
   ]
  },
  {
   "cell_type": "code",
   "execution_count": 47,
   "metadata": {},
   "outputs": [
    {
     "name": "stdout",
     "output_type": "stream",
     "text": [
      "Initial state:\n"
     ]
    },
    {
     "data": {
      "image/png": "[encoded data removed]",
      "text/plain": [
       "<Figure size 640x480 with 1 Axes>"
      ]
     },
     "metadata": {},
     "output_type": "display_data"
    },
    {
     "name": "stdout",
     "output_type": "stream",
     "text": [
      "Score:\n",
      "4 4 4 4 4 8 8 12 24 32 36 40 48 68 68 68 68 76 84 100 132 132 132 144 152 160 180 180 180 180 184 196 200 204 212 232 268 268 340 340 344 352 352 356 360 376 380 384 392 392 392 400 408 412 412 440 472 476 476 480 480 480 492 496 520 524 532 532 552 584 648 656 792 796 808 824 824 824 824 840 840 848 868 900 904 904 912 920 920 920 924 928 936 952 956 968 976 992 992 1028 1096 1096 1096 1096 1100 1112 1120 1128 1144 1152 1156 1156 1160 1172 1188 1220 1220 1224 1228 1232 1240 1240 1244 1244 1248 1256 1280 1288 1296 1316 1348 1416 1544 1808 1812 1816 1816 1816 1820 1828 1844 1844 1856 1864 1872 1892 1892 1892 1924 1928 1928 1932 1932 1932 1940 1952 1960 1972 1972 1972 1976 1976 1976 1996 2008 2012 2012 2024 2036 2052 2068 2100 2168 2168 2172 2176 2176 2176 2176 2196 2200 2208 2224 2256 2260 2260 2260 2260 2276 2292 2292 2308 2312 2324 2340 2340 2376 2440 2572 2572 2580 2584 2592 2592 2592 2616 2620 2620 2624 2632 2636 2644 2664 2668 2672 2712 2720 2740 2740 2740 2740 2744 2748 2756 2760 2760 2764 2776 2784 2784 2804 2840 2848 2912 2916 2916 2916 2920 2924 2936 2952 2956 2964 2964 2964 2964 2988 3000 3008 3056 3060 3060 3060 3064 3064 3072 3076 3092 3108 3140 3148 3212 3340 3340 3340 3612 3612 4128 4136 4136 4148 4168 4180 4196 4196 4196 4232 4232 4236 4240 4248 4248 4264 4280 4280 4280 4284 4284 4284 4300 4312 4312 4312 4316 4316 4316 4344 4344 4380 4444 4456 4480 4484 4484 4484 4492 4500 4504 4512 4516 4516 4516 4536 4568 4568 4576 4596 4600 4604 4616 4616 4620 4628 4628 4632 4632 4640 4656 4704 4768 4776 4920 4920 4920 4924 4932 4936 4948 4964 4996 5000 5000 5004 5004 5020 5028 5032 5048 5048 5048 5052 5060 5064 5072 5092 5128 5128 5192 5196 5204 5208 5216 5220 5236 5240 5240 5244 5244 5248 5252 5260 5260 5264 5272 5288 5292 5292 5296 5340 5352 5360 5364 5368 5368 5396 5412 5412 5412 5416 5448 5452 5516 5648 5916 5916 5920 5928 5928 5928 5932 5960 5964 5976 5992 6024 6024 6024 6028 6036 6036 6040 6044 6048 6048 6064 6064 6064 6068 6068 6096 6104 6120 6120 6156 6228 6232 6232 6240 6256 6256 6272 6276 6276 6280 6280 6280 6292 6308 6328 6360 6360 6364 6364 6376 6376 6384 6388 6408 6416 6432 6464 6468 6536 6664 6664 6664 6668 6672 6684 6696 6712 6712 6716 6720 6720 6724 6740 6740 6744 6764 6796 6796 6808 6820 6836 6840 6840 6844 6852 6856 6856 6860 6868 6868 6872 6888 6896 6904 6904 6904 6936 7000 7004 7012 7032 7036 7040 7040 7052 7064 7072 7072 7076 7080 7084 7100 7108 7128 7160 7160 7160 7168 7176 7180 7188 7204 7236 7244 7252 7252 7316 7452 7716 8228 8228 8232 8236 9272 9276 9276 9276 9296 9304 9324 9360 9360 9360 9368 9372 9376 9384 9388 9388 9400 9400 9420 9420 9420 9424 9436 9452 9488 9560 9560 9564 9572 9572 9592 9596 9596 9596 9608 9612 9620 9640 9640 9648 9688 9688 9692 9692 9692 9708 9716 9716 9720 9736 9736 9740 9740 9740 9748 9764 9784 9816 9816 9884 10012 10012 10016 10020 10040 10056 10056 10060 10068 10088 10120 10124 10124 10124 10124 10132 10140 10152 10160 10180 10180 10188 10196 10212 10248 10256 10324 10328 10336 10352 10352 10356 10356 10360 10360 10364 10376 10376 10380 10380 10380 10384 10404 10408 10432 10448 10480 10484 10488 10488 10488 10492 10492 10508 10516 10532 10564 10568 10568 10568 10580 10580 10644 10776 11032 11040 11056 11076 11076 11080 11088 11104 11140 11144 11144 11144 11152 11160 11160 11164 11172 11176 11180 11188 11204 11208 11216 11232 11268 11272 11272 11272 11276 11344 11352 11360 11368 11384 11384 11384 11388 11400 11404 11412 11416 11436 11468 11472 11488 11508 11508 11508 11508 11512 11516 11516 11516 11520 11540 11556 11556 11560 11564 11572 11576 11584 11616 11616 11620 11624 11624 11624 11652 11720 11848 11852 11852 11852 11856 11864 11864 11872 11888 11936 11940 11944 11952 11972 11972 11976 11980 11980 11992 11992 12008 12012 12052 12116 12116 12120 12120 12128 12136 12156 12168 12176 12180 12180 12196 12200 12232 12232 12232 12240 12240 12244 12264 12264 12264 12268 12272 12272 12272 12276 12308 12312 12324 12340 12344 12344 12344 12344 12344 12352 12360 12364 12372 12376 12384 12384 12436 12440 12504 12632 12632 12636 12896 12904 12904 12924 13472 13480 13484 13492 13512 13516 13516 13516 13528 13528 13540 13556 13592 13592 13660 13672 13688 13688 13692 13700 13704 13712 13720 13736 13780 13780 13780 13780 13788 13788 13788 13792 13792 13792 13796 13808 13824 13828 13848 13864 13900 13964 14100 14100 14104 14104 14108 14120 14124 14132 14132 14152 14160 14176 14184 14192 14192 14228 14232 14232 14236 14236 14236 14240 14252 14252 14268 14268 14272 14284 14284 14292 14312 14344 14412 14420 14420 14424 14432 14436 14436 14444 14456 14456 14456 14480 14488 14504 14540 14540 14540 14544 14560 14564 14564 14568 14572 14576 14584 14600 14604 14604 14608 14608 14616 14620 14624 14632 14648 14680 14688 14760 14892 15148 15148 15152 15160 15160 15164 15168 15196 15216 15248 15264 15264 15280 15280 15280 15284 15288 15288 15288 15308 15316 15316 15336 15368 15372 15444 15448 15456 15476 15476 15480 15484 15484 15484 15496 15500 15500 15512 15512 15532 15564 15568 15576 15580 15580 15592 15616 15620 15620 15624 15632 15636 15636 15636 15640 15640 15640 15644 15656 15668 15700 15732 15736 15740 15740 15752 15760 15760 15828 15828 15960 15964 15964 15968 15968 15972 15988 16008 16040 16040 16044 16048 16048 16056 16060 16060 16064 16080 16080 16096 16108 16124 16164 16228 16232 16232 16252 16252 16252 16252 16264 16268 16276 16280 16284 16292 16308 16308 16312 16320 16320 16320 16324 16336 16344 16360 16400 16408 16408 16424 16456 16520 16528 16664 16924 16924 16936 16936 17452 18476 20524 20528 20528 20544 20576 20592 20592 20628 20632 20636 20644 20664 20664 20664 20664 20668 20668 20672 20684 20692 20712 20748 20756 20756 20820 20824 20828 20840 20856 20856 20856 20860 20864 20872 20876 20884 20900 20904 20904 20916 20916 20952 20956 20964 20980 20984 20992 21000 21000 21008 21028 21028 21064 21132 21132 21136 21272 21272 21272 21288 21296 21296 21300 21320 21328 21344 21348 21380 21380 21384 21388 21388 21388 21404 21412 21412 21432 21432 21436 21444 21448 21448 21460 21476 21508 21576 21576 21576 21576 21580 21596 21604 21620 21624 21628 21640 21644 21652 21656 21664 21680 21712 21716 21716 21716 21720 21728 21732 21732 21740 21748 21768 21776 21796 21796 21796 21800 21800 21804 21804 21808 21808 21848 21916 22056 22312 22316 22324 22344 22352 22368 22376 22408 22412 22412 22412 22416 22428 22428 22440 22440 22444 22444 22448 22480 22496 22532 22596 22600 22604 22612 22612 22616 22616 22616 22620 22620 22624 22648 22664 22668 22676 22692 22728 22728 22732 22740 22740 22744 22752 22768 22772 22772 22776 22776 22788 22788 22796 22804 22808 22816 22832 22836 22872 22872 22876 22876 22884 22948 22952 22964 23108 23108 23108 23112 23116 23116 23120 23128 23144 23148 23164 23208 23208 23224 23224 23228 23232 23240 23248 23252 23268 23272 23272 23280 23288 23288 23320 23392 23400 23416 23416 23420 23420 23428 23428 23432 23436 23436 23448 23448 23456 23480 23512 23520 23520 23524 23528 23528 23532 23532 23536 23544 23548 23576 23584 23600 23604 23640 23644 23652 23652 23716 23720 23720 23852 24116 24636 24636 24652 24656 24664 24680 24724 24728 24728 24732 24740 24760 24760 24764 24768 24772 24780 24788 24804 24844 24844 24844 24848 24920 24920 24928 24936 24936 24940 24964 24964 24968 24976 24996 25028 25028 25028 25028 25040 25048 25052 25060 25060 25064 25072 25072 25088 25092 25096 25104 25120 25128 25160 25164 25240 25240 25240 25368 25376 25384 25404 25404 25416 25424 25424 25428 25444 25444 25444 25452 25452 25456 25464 25464 25472 25480 25484 25500 25540 25544 25544 25556 25576 25608 25672 25676 25676 25676 25680 25688 25692 25700 25720 25724 25724 25728 25736 25744 25744 25748 25748 25748 25776 25792 25796 25812 25844 25848 25848 25852 25852 25856 25864 25872 25880 25896 25900 25900 25900 25932 25932 25940 25948 26012 26016 26144 26404 26416 26428 26436 26468 26468 26472 26476 26484 26488 26488 26492 26504 26520 26552 26552 26556 26556 26560 26572 26576 26576 26580 26592 26600 26616 26648 26652 26716 26716 26716 26724 26744 26756 26788 26824 26824 26832 26836 26836 26836 26840 26844 26852 26868 26872 26872 26872 26876 26880 26888 26892 26896 26912 26928 26932 26936 26936 26972 26976 26992 27008 27072 27204 27204 27208 27216 27236 27268 27268 27268 27272 27276 27276 27276 27284 27292 27300 27300 27308 27316 27332 27336 27336 27344 27348 27364 27368 27376 27416 27416 27420 27428 27432 27444 27460 27524 27528 27528 27532 27540 27556 27560 27572 27572 27572 27572 27608 27612 27620 27644 27652 27652 27652 27652 27652 27656 27664 27668 27676 27676 27688 27696 27712 27748 27812 27948 28212 28724 29764 29772 29772 29780 29800 29812 29812 29844 29844 29852 29852 29860 29860 29860 29884 29896 29896 29896 29896 29912 29936 29968 30036 30040 30048 30068 30068 30068 30072 30076 30076 30084 30088 30096 30116 30116 30120 30124 30156 30160 30164 30180 30180 30180 30184 30188 30188 30192 30216 30216 30216 30220 30232 30248 30248 30284 30288 30296 30360 30492 30492 30496 30504 30520 30524 30536 30540 30552 30552 30552 30556 30564 30584 30584 30584 30588 30600 30600 30612 30632 30632 30668 30672 30680 30696 30728 30800 30800 30808 30816 30832 30832 30836 30836 30836 30840 30840 30848 30852 30864 30872 30892 30932 30932 30932 30940 30940 30940 30944 30944 30956 30964 30964 30968 30996 31012 31016 31048 31048 31048 31116 31124 31128 31128 31132 31140 31144 31148 31152 31156 31164 31164 31312 31580 31588 31604 31644 31652 31652 31656 31660 31668 31672 31696 31712 31716 31716 31716 31724 31724 31732 31732 31736 31736 31768 31832 31840 31848 31852 31872 31880 31880 31888 31896 31916 31948 31956 31956 31960 31964 31972 31988 31992 31996 32000 32016 32016 32032 32036 32036 32040 32044 32052 32056 32064 32080 32112 32116 32120 32120 32120 32124 32124 32196 32340 32344 32344 32348 32356 32372 32376 32380 32384 32392 32408 32440 32444 32444 32444 32444 32448 32456 32476 32484 32500 32532 32536 32540 32548 32568 32568 32568 32572 32572 32588 32596 32676 32676 32680 32684 32684 32688 32700 32708 32724 32728 32728 32764 32772 32776 32776 32776 32780 32792 32808 32844 32844 32908 32908 33040 33040 33304 33312 33832 33836 33844 33864 33868 33868 33868 33876 33892 33892 33892 33904 33952 33956 33956 33960 33968 33984 33988 33992 33992 33996 34008 34024 34024 34056 34060 34060 34060 34132 34140 34152 34156 34172 34176 34184 34188 34196 34196 34200 34220 34228 34232 34240 34260 34260 34292 34292 34296 34296 34300 34312 34316 34324 34324 34328 34344 34344 34380 34444 34576 34588 34588 34600 34608 34628 34632 34644 34660 34696 34696 34696 34696 34700 34712 34712 34720 34740 34744 34744 34748 34748 34748 34752 34760 34772 34772 34788 34824 34824 34824 34828 34904 34904 34908 34920 34920 34928 34948 34948 34952 34956 34956 34968 34984 34984 35020 35028 35044 35044 35060 35060 35064 35064 35064 35076 35092 35092 35092 35092 35096 35128 35136 35136 35136 35136 35168 35236 35364 35364 35632 35644 35644 35660 35660 35664 35672 35692 35704 35712 35732 35764 35768 35776 35776 35776 35780 35784 35792 35808 35816 35848 35848 35852 35860 35864 35864 35932 35932 35936 35944 35948 35952 35960 35960 35964 35988 35992 35992 35996 36008 36024 36024 36028 36028 36064 36064 36072 36092 36092 36096 36096 36112 36128 36148 36152 36152 36160 36160 36192 36192 36200 36204 36272 36288 36424 36428 36436 36456 36488 36496 36496 36500 36504 36516 36532 36532 36532 36532 36532 36536 36544 36552 36564 36580 36616 36684 36684 36688 36688 36700 36708 36708 36708 36708 36728 36732 36740 36744 36744 36756 36756 36764 36764 36772 36788 36788 36792 36828 36840 36844 36844 36844 36848 36856 36876 36884 36888 36896 36916 36920 36928 36932 36932 36932 36936 36944 36964 36996 36996 37000 37004 37016 37032 37064 37128 37260 37260 37260 37268 37276 37280 37280 37292 37308 37568 37568 37568 37588 37596 37596 37596 37596 38108 38112 38116 38124 39168 41224 41224 45328 45360 45360 45428 45436 45448 45460 45476 45492 45524 45528 45532 45532 45540 45544 45548 45572 45576 45584 45604 45604 45608 45640 45720 45848 45848 45852 45852 45860 45864 45880 45880 45880 45880 45880 45884 45884 45908 45908 45916 45932 45940 45940 45980 45980 45980 45988 45988 46012 46020 46020 46024 46036 46044 46052 46068 46100 46168 46168 46180 46196 46196 46200 46200 46204 46204 46204 46224 46232 46248 46252 46264 46296 46300 46308 46324 46324 46328 46328 46332 46344 46352 46368 46372 46372 46372 46404 46472 46480 46488 46492 46500 46504 46508 46660 46660 46660 46660 46924 46932 46948 46984 46984 46988 46988 46988 46988 46992 47000 47000 47008 47020 47028 47032 47056 47056 47076 47076 47112 47124 47128 47128 47128 47128 47128 47132 47200 47200 47208 47216 47224 47252 47252 47272 47276 47284 47316 47320 47324 47324 47324 47324 47332 47340 47352 47376 47396 47428 47492 47492 47492 47628 47628 47628 47628 47632 47640 47644 47644 47644 47648 47664 47672 47696 47716 47752 47752 47756 47764 47764 47764 47776 47784 47788 47796 47812 47816 47824 47840 47844 47844 47848 47848 47852 47860 47860 47896 47964 47972 47972 47972 47976 47980 47980 47980 47980 47984 48012 48020 48028 48056 48096 48096 48100 48104 48104 48112 48128 48128 48132 48136 48140 48140 48152 48168 48204 48280 48408 48664 49176 49180 49184 49196 49196 49196 49216 49228 49228 49240 49256 49260 49300 49300 49304 49312 49328 49332 49332 49336 49340 49340 49352 49356 49356 49360 49368 49372 49384 49400 49440 49504 49508 49508 49512 49512 49524 49540 49540 49544 49544 49548 49560 49576 49612 49620 49624 49624 49636 49636 49640 49648 49668 49672 49672 49676 49684 49688 49692 49700 49716 49748 49748 49752 49820 49820 49952 49960 49960 49968 49968 49976 49992 50004 50020 50056 50056 50056 50060 50072 50080 50100 50104 50112 50112 50116 50116 50120 50120 50136 50152 50152 50156 50188 50256 50264 50268 50268 50272 50272 50276 50276 50288 50304 50308 50316 50328 50348 50356 50392 50392 50392 50396 50404 50420 50424 50424 50428 50440 50448 50468 50468 50472 50504 50568 50696 50700 50700 50704 50976 50976 50976 50980 50988 50988 50996 51012 51028 51048 51080 51088 51088 51088 51092 51100 51112 51120 51140 51140 51140 51144 51152 51152 51176 51208 51276 51276 51276 51276 51280 51280 51296 51304 51304 51304 51304 51308 51316 51324 51332 51348 51348 51368 51372 51376 51380 51380 51396 51396 51400 51400 51424 51464 51468 51476 51492 51524 51528 51528 51528 51532 51544 51548 51548 51552 51560 51576 51648 51784 51784 51788 51788 51792 51800 51820 51864 51864 51864 51868 51872 51884 51900 51900 51900 51908 51916 51924 51940 51940 51940 51948 51988 51988 52056 52060 52068 52072 52084 52100 52104 52104 52108 52116 52120 52120 52120 52124 52124 52132 52152 52156 52164 52164 52168 52180 52196 52232 52244 52264 52296 52296 52296 52296 52300 52312 52320 52324 52328 52328 52392 52528 52800 53328 54352 54352 54356 54356 54364 54376 54392 54400 54416 54452 54452 54452 54452 54460 54472 54472 54476 54484 54500 54500 54508 54540 54616 54616 54616 54616 54620 54620 54620 54620 54624 54640 54640 54644 54676 54696 54696 54732 54732 54744 54756 54772 54772 54776 54776 54780 54788 54792 54796 54796 54796 54796 54804 54820 54836 54872 54872 54936 55068 55072 55076 55084 55084 55096 55116 55128 55144 55144 55144 55148 55184 55192 55200 55216 55220 55220 55224 55224 55224 55228 55244 55244 55252 55272 55304 55308 55308 55376 55388 55396 55396 55400 55416 55420 55424 55444 55460 55460 55460 55496 55500 55500 55500 55512 55512 55512 55516 55524 55532 55532 55548 55548 55552 55564 55572 55592 55628 55700 55700 55832 56096 56100 56100 56104 56104 56108 56108 56124 56148 56168 56200 56200 56200 56200 56204 56208 56208 56220 56232 56232 56256 56260 56264 56276 56292 56296 56304 56336 56400 56404 56404 56408 56408 56424 56424 56440 56440 56444 56444 56452 56468 56484 56516 56516 56520 56524 56524 56536 56548 56548 56564 56568 56576 56580 56584 56592 56612 56644 56648 56656 56660 56724 56852 56856 56864 56868 56872 56880 56884 56884 56888 56904 56908 56916 56916 56920 56924 56924 56940 56940 56944 56956 56964 56984 56988 56996 57028 57032 57036 57044 57060 57096 57100 57108 57108 57108 57116 57188 57188 57192 57204 57220 57220 57224 57236 57252 57252 57252 57252 57264 57280 57280 57296 57296 57300 57332 57336 57336 57340 57344 57352 57356 57364 57368 57368 57384 57388 57396 57404 57412 57428 57464 57528 57660 57660 57664 57664 57668 57676 57932 57932 57940 58456 58476 58500 58516 58516 58552 58552 58552 58556 58560 58572 58572 58572 58576 58584 58604 58636 58704 58708 58708 58712 58720 58720 58724 58732 58736 58740 58752 58776 58796 58804 58804 58836 58836 58836 58840 58852 58868 58868 58876 58884 58888 58896 58912 58916 58920 58960 59024 59156 59160 59164 59172 59188 59192 59192 59196 59196 59196 59204 59212 59220 59220 59228 59236 59240 59256 59260 59268 59300 59320 59320 59324 59324 59328 59336 59336 59340 59348 59368 59368 59376 59420 59484 59492 59492 59496 59496 59500 59508 59512 59516 59524 59524 59528 59536 59552 59552 59560 59564 59564 59572 59592 59628 59636 59640 59664 59680 59680 59688 59696 59700 59700 59700 59704 59736 59800 59800 59932 60188 60192 60204 60224 60232 60232 60232 60236 60248 60268 60276 60280 60288 60304 60340 60344 60344 60348 60356 60360 60368 60372 60376 60384 60388 60404 60408 60408 60408 60412 60416 60424 60428 60436 60436 60440 60456 60492 60492 60560 60564 60580 60600 60632 60632 60632 60636 60644 60648 60660 60660 60676 60684 60684 60696 60696 60704 60724 60724 60724 60728 60736 60740 60740 60748 60756 60756 60776 60776 60812 60812 60816 60888 60892 60900 60920 60920 60924 60924 60928 60932 60944 60952 60968 60972 61016 61032 61064 61064 61068 61068 61072 61084 61092 61092 61096 61096 61104 61112 61128 61132 61132 61136 61140 61156 61156 61160 61168 61172 61192 61200 61200 61216 61252 61316 61452 61452 61456 61464 61464 61468 61468 61472 61480 61496 61532 61540 61540 61560 61564 61572 61572 61576 61584 61604 61604 61608 61616 61620 61624 61628 61636 61652 61688 61752 61752 61756 61768 61768 61772 61776 61784 61804 61812 61816 61824 61824 61828 61832 61836 Final state:\n"
     ]
    },
    {
     "data": {
      "image/png": "[encoded data removed]",
      "text/plain": [
       "<Figure size 640x480 with 1 Axes>"
      ]
     },
     "metadata": {},
     "output_type": "display_data"
    }
   ],
   "source": [
    "initial_state = make_new_game(4)\n",
    "\n",
    "print('Initial state:')\n",
    "printboardstate(initial_state)\n",
    "\n",
    "debug = False\n",
    "\n",
    "initial_tries = 20\n",
    "num_tries = 400\n",
    "max_depth = 15\n",
    "\n",
    "indextomove = {0: 'up', 1: 'down', 2: 'left', 3: 'right'}\n",
    "movetoindex = {'up': 0, 'down': 1, 'left': 2, 'right': 3}\n",
    "    \n",
    "current_state = initial_state\n",
    "print('Score:')\n",
    "while game_status(get_matrix(current_state)) == \"not over\":\n",
    "    # Only evaluate for valid moves\n",
    "    bestscore = -1\n",
    "    bestmove = \"\"\n",
    "    validmoves = []\n",
    "    \n",
    "    action_score = np.array([0, 0, 0, 0])\n",
    "    action_tries = np.array([0, 0, 0, 0])\n",
    "    \n",
    "    exploration_tries, exploration_score = 0, 0\n",
    "    \n",
    "    maxscore = 0\n",
    "    \n",
    "    for move in ['up', 'down', 'left', 'right']:\n",
    "        _, valid = game_logic[move](current_state)\n",
    "        if valid: validmoves.append(move)\n",
    "        # if not valid, still increment the initial tries variable for that move to avoid division by 0\n",
    "        else: \n",
    "            action_tries[movetoindex[move]] = initial_tries\n",
    "            action_score[movetoindex[move]] = -1000000\n",
    "            continue\n",
    "        \n",
    "        # do an initial exploration of each valid move\n",
    "        for tries in range(initial_tries):\n",
    "            # perform monte carlo simulation for that move\n",
    "            montecarlo_state, _ = game_logic[move](current_state)\n",
    "            montecarlo_score = playthrough(montecarlo_state, 1, max_depth)\n",
    "\n",
    "            # add the score and tries to the action node\n",
    "            maxindex = movetoindex[move]\n",
    "            action_tries[maxindex] += 1\n",
    "            action_score[maxindex] += montecarlo_score\n",
    "            \n",
    "#             exploration_tries += 1\n",
    "#             exploration_score += montecarlo_score\n",
    "            \n",
    "            maxscore = max(maxscore, montecarlo_score)\n",
    "    \n",
    "    # we peg the exploration constant to the average montecarlo score of the initial trials\n",
    "    c = maxscore\n",
    "#     c = 10\n",
    "            \n",
    "    for totaltries in range(num_tries):\n",
    "        \n",
    "        # perform an explore-exploit tradeoff calculation to find out which move to go first\n",
    "        action_heuristic = action_score/action_tries + c*np.sqrt(np.log(totaltries+1)/action_tries)\n",
    "        \n",
    "#         print(action_heuristic)\n",
    "#         print(np.sqrt((totaltries+1)/action_tries))\n",
    "#         print('Exploration',c*np.sqrt(np.log(totaltries+1)/action_tries))\n",
    "        \n",
    "        maxindex = np.argmax(action_heuristic)        \n",
    "        move = indextomove[maxindex]\n",
    "        \n",
    "        # perform monte carlo simulation for that move\n",
    "        montecarlo_state, _ = game_logic[move](current_state)\n",
    "        montecarlo_score = playthrough(montecarlo_state, 1, max_depth)\n",
    "        \n",
    "        # add the score and tries to the action node\n",
    "        action_tries[maxindex] += 1\n",
    "        action_score[maxindex] += montecarlo_score\n",
    "        \n",
    "        \n",
    "    if debug:\n",
    "        print('Exploration Factor', c)\n",
    "        print('Number of tries', action_tries)\n",
    "        print('Average score', action_score/action_tries)\n",
    "\n",
    "        \n",
    "    # best move is the highest score\n",
    "#     bestmoveindex = np.where(action_tries == max(action_tries))[0][0]\n",
    "    bestmoveindex = np.argmax(action_score/action_tries)\n",
    "    bestmove = indextomove[bestmoveindex]\n",
    "    \n",
    "    # do the move with the highest score\n",
    "    current_state, _ = game_logic[bestmove](current_state)\n",
    "    \n",
    "    if debug:\n",
    "        print('Best move:', bestmove)\n",
    "    print(current_state[1], end = ' ')\n",
    "\n",
    "print('Final state:')\n",
    "printboardstate(current_state)"
   ]
  },
  {
   "cell_type": "code",
   "execution_count": null,
   "metadata": {},
   "outputs": [],
   "source": []
  },
  {
   "cell_type": "code",
   "execution_count": null,
   "metadata": {},
   "outputs": [],
   "source": []
  },
  {
   "cell_type": "code",
   "execution_count": null,
   "metadata": {},
   "outputs": [],
   "source": []
  },
  {
   "cell_type": "code",
   "execution_count": null,
   "metadata": {},
   "outputs": [],
   "source": []
  },
  {
   "cell_type": "code",
   "execution_count": null,
   "metadata": {},
   "outputs": [],
   "source": []
  },
  {
   "cell_type": "markdown",
   "metadata": {},
   "source": [
    "# Minimax-ish algorithm with score reward"
   ]
  },
  {
   "cell_type": "code",
   "execution_count": 5,
   "metadata": {},
   "outputs": [],
   "source": [
    "branches = 2\n",
    "steps = 3\n",
    "decay = 0.9\n",
    "\n",
    "def get_score_difference(new_state, state):\n",
    "    if game_status(get_matrix(new_state)) == \"lose\" or game_status(get_matrix(state)) == \"lose\":\n",
    "        return -20000\n",
    "    elif game_status(get_matrix(new_state)) == \"win\":\n",
    "        return 20000\n",
    "    else:\n",
    "        return get_score(new_state) - get_score(state)\n",
    "\n",
    "def get_future_score(state, steps, decay):\n",
    "    if steps == 0:\n",
    "        return 0\n",
    "    \n",
    "    direction_scores = []\n",
    "    for action in (up, down, left, right):\n",
    "        future_states = []\n",
    "        for i in range(branches):\n",
    "            future_states.append(action(state))\n",
    "        future_states = [x[0] for x in future_states if x[1]]\n",
    "            \n",
    "        if not future_states:\n",
    "            continue\n",
    "        score_differences = []\n",
    "        for future_state in future_states:\n",
    "            score_differences.append(get_score_difference(future_state, state))\n",
    "            \n",
    "        future_scores = []\n",
    "        for future_state in future_states:\n",
    "            future_scores.append(get_future_score(future_state, steps - 1, decay))\n",
    "        direction_scores.append(min(score_differences) + decay * min(future_scores))\n",
    "    \n",
    "    if not direction_scores:\n",
    "        return -20000\n",
    "    return max(direction_scores)\n",
    "\n",
    "def get_move_score(state, action):\n",
    "    new_state, valid = action(state)\n",
    "    if not valid:\n",
    "        return -1000000\n",
    "    return get_score_difference(new_state, state) + get_future_score(new_state, steps, decay)\n",
    "\n",
    "def get_best_move(state):\n",
    "    move_scores = []\n",
    "    for action in [left, right, up, down]:\n",
    "        move_scores.append(get_move_score(state, action))\n",
    "    max_index = 0\n",
    "    max_score = -10000000\n",
    "    for i in range(4):\n",
    "        if move_scores[i] > max_score:\n",
    "            max_score = move_scores[i]\n",
    "            max_index = i\n",
    "    return [\"left\", \"right\", \"up\", \"down\"][max_index]"
   ]
  },
  {
   "cell_type": "code",
   "execution_count": 14,
   "metadata": {},
   "outputs": [],
   "source": [
    "current_state = make_new_game(4)"
   ]
  },
  {
   "cell_type": "code",
   "execution_count": 15,
   "metadata": {},
   "outputs": [
    {
     "data": {
      "text/plain": [
       "([[2, 0, 0, 0], [0, 0, 0, 0], [0, 0, 0, 0], [2, 0, 0, 0]], 0, [])"
      ]
     },
     "execution_count": 15,
     "metadata": {},
     "output_type": "execute_result"
    }
   ],
   "source": [
    "current_state"
   ]
  },
  {
   "cell_type": "code",
   "execution_count": 16,
   "metadata": {},
   "outputs": [
    {
     "data": {
      "text/plain": [
       "([[32, 8, 2048, 4], [2, 8, 32, 64], [0, 0, 0, 4], [0, 0, 0, 2]], 21096, ())"
      ]
     },
     "execution_count": 16,
     "metadata": {},
     "output_type": "execute_result"
    }
   ],
   "source": [
    "while game_status(get_matrix(current_state)) == \"not over\":\n",
    "    best_move = get_best_move(current_state)\n",
    "    best_move = game_logic[best_move]\n",
    "    current_state, _ = best_move(current_state)\n",
    "    \n",
    "current_state"
   ]
  },
  {
   "cell_type": "code",
   "execution_count": null,
   "metadata": {},
   "outputs": [],
   "source": []
  }
 ],
 "metadata": {
  "kernelspec": {
   "display_name": "Python 3",
   "language": "python",
   "name": "python3"
  },
  "language_info": {
   "codemirror_mode": {
    "name": "ipython",
    "version": 3
   },
   "file_extension": ".py",
   "mimetype": "text/x-python",
   "name": "python",
   "nbconvert_exporter": "python",
   "pygments_lexer": "ipython3",
   "version": "3.7.6"
  }
 },
 "nbformat": 4,
 "nbformat_minor": 5
}
